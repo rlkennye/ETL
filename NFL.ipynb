{
 "cells": [
  {
   "cell_type": "code",
   "execution_count": 36,
   "metadata": {},
   "outputs": [],
   "source": [
    "import pandas as pd\n",
    "from sqlalchemy import create_engine\n",
    "import matplotlib.pyplot as plt\n",
    "from matplotlib import style\n",
    "style.use('seaborn')"
   ]
  },
  {
   "cell_type": "markdown",
   "metadata": {},
   "source": [
    "<h3>Store CSV into DataFrame</h3>"
   ]
  },
  {
   "cell_type": "code",
   "execution_count": 37,
   "metadata": {},
   "outputs": [
    {
     "data": {
      "text/html": [
       "<div>\n",
       "<style scoped>\n",
       "    .dataframe tbody tr th:only-of-type {\n",
       "        vertical-align: middle;\n",
       "    }\n",
       "\n",
       "    .dataframe tbody tr th {\n",
       "        vertical-align: top;\n",
       "    }\n",
       "\n",
       "    .dataframe thead th {\n",
       "        text-align: right;\n",
       "    }\n",
       "</style>\n",
       "<table border=\"1\" class=\"dataframe\">\n",
       "  <thead>\n",
       "    <tr style=\"text-align: right;\">\n",
       "      <th></th>\n",
       "      <th>DATE</th>\n",
       "      <th>TEAM</th>\n",
       "      <th>NAME</th>\n",
       "      <th>POSITION</th>\n",
       "      <th>CASE</th>\n",
       "      <th>CATEGORY</th>\n",
       "      <th>DESCRIPTION</th>\n",
       "      <th>OUTCOME</th>\n",
       "    </tr>\n",
       "  </thead>\n",
       "  <tbody>\n",
       "    <tr>\n",
       "      <th>0</th>\n",
       "      <td>3/27/2017</td>\n",
       "      <td>SEA</td>\n",
       "      <td>Trevone Boykin</td>\n",
       "      <td>QB</td>\n",
       "      <td>Arrested</td>\n",
       "      <td>Drugs</td>\n",
       "      <td>Accused of marijuana possession, public intoxi...</td>\n",
       "      <td>Resolution undetermined.</td>\n",
       "    </tr>\n",
       "    <tr>\n",
       "      <th>1</th>\n",
       "      <td>3/26/2017</td>\n",
       "      <td>CHI</td>\n",
       "      <td>Deiondre Hall</td>\n",
       "      <td>CB</td>\n",
       "      <td>Arrested</td>\n",
       "      <td>Disorderly conduct</td>\n",
       "      <td>Accused of disorderly conduct, public intoxica...</td>\n",
       "      <td>Resolution undetermined.</td>\n",
       "    </tr>\n",
       "    <tr>\n",
       "      <th>2</th>\n",
       "      <td>3/26/2017</td>\n",
       "      <td>GB</td>\n",
       "      <td>Makinton Dorleant</td>\n",
       "      <td>CB</td>\n",
       "      <td>Arrested</td>\n",
       "      <td>Police interference</td>\n",
       "      <td>Accused of interfence after scuffle outside of...</td>\n",
       "      <td>Resolution undetermined.</td>\n",
       "    </tr>\n",
       "    <tr>\n",
       "      <th>3</th>\n",
       "      <td>3/7/2017</td>\n",
       "      <td>KC</td>\n",
       "      <td>Demetrius Harris</td>\n",
       "      <td>TE</td>\n",
       "      <td>Arrested</td>\n",
       "      <td>Drugs</td>\n",
       "      <td>Suspected of felony marijuana possession as pa...</td>\n",
       "      <td>Resolution undetermined.</td>\n",
       "    </tr>\n",
       "    <tr>\n",
       "      <th>4</th>\n",
       "      <td>3/5/2017</td>\n",
       "      <td>LAR</td>\n",
       "      <td>Ethan Westbrooks</td>\n",
       "      <td>DT</td>\n",
       "      <td>Arrested</td>\n",
       "      <td>Domestic violence</td>\n",
       "      <td>Suspected of domestic violence in Sacramento a...</td>\n",
       "      <td>Resolution undetermined.</td>\n",
       "    </tr>\n",
       "  </tbody>\n",
       "</table>\n",
       "</div>"
      ],
      "text/plain": [
       "        DATE TEAM               NAME POSITION      CASE             CATEGORY  \\\n",
       "0  3/27/2017  SEA     Trevone Boykin       QB  Arrested                Drugs   \n",
       "1  3/26/2017  CHI      Deiondre Hall       CB  Arrested   Disorderly conduct   \n",
       "2  3/26/2017   GB  Makinton Dorleant       CB  Arrested  Police interference   \n",
       "3   3/7/2017   KC   Demetrius Harris       TE  Arrested                Drugs   \n",
       "4   3/5/2017  LAR   Ethan Westbrooks       DT  Arrested    Domestic violence   \n",
       "\n",
       "                                         DESCRIPTION                   OUTCOME  \n",
       "0  Accused of marijuana possession, public intoxi...  Resolution undetermined.  \n",
       "1  Accused of disorderly conduct, public intoxica...  Resolution undetermined.  \n",
       "2  Accused of interfence after scuffle outside of...  Resolution undetermined.  \n",
       "3  Suspected of felony marijuana possession as pa...  Resolution undetermined.  \n",
       "4  Suspected of domestic violence in Sacramento a...  Resolution undetermined.  "
      ]
     },
     "execution_count": 37,
     "metadata": {},
     "output_type": "execute_result"
    }
   ],
   "source": [
    "csv_file = \"arrest_data.csv\"\n",
    "arrest_data_df = pd.read_csv(csv_file)\n",
    "arrest_data_df.head()"
   ]
  },
  {
   "cell_type": "markdown",
   "metadata": {},
   "source": [
    "<h3>Create new data with select columns</h3>"
   ]
  },
  {
   "cell_type": "code",
   "execution_count": 38,
   "metadata": {
    "scrolled": true
   },
   "outputs": [
    {
     "data": {
      "text/html": [
       "<div>\n",
       "<style scoped>\n",
       "    .dataframe tbody tr th:only-of-type {\n",
       "        vertical-align: middle;\n",
       "    }\n",
       "\n",
       "    .dataframe tbody tr th {\n",
       "        vertical-align: top;\n",
       "    }\n",
       "\n",
       "    .dataframe thead th {\n",
       "        text-align: right;\n",
       "    }\n",
       "</style>\n",
       "<table border=\"1\" class=\"dataframe\">\n",
       "  <thead>\n",
       "    <tr style=\"text-align: right;\">\n",
       "      <th></th>\n",
       "      <th>player_name</th>\n",
       "      <th>category</th>\n",
       "      <th>description</th>\n",
       "    </tr>\n",
       "    <tr>\n",
       "      <th>date_of_arrest</th>\n",
       "      <th></th>\n",
       "      <th></th>\n",
       "      <th></th>\n",
       "    </tr>\n",
       "  </thead>\n",
       "  <tbody>\n",
       "    <tr>\n",
       "      <th>3/27/2017</th>\n",
       "      <td>Trevone Boykin</td>\n",
       "      <td>Drugs</td>\n",
       "      <td>Accused of marijuana possession, public intoxi...</td>\n",
       "    </tr>\n",
       "    <tr>\n",
       "      <th>3/26/2017</th>\n",
       "      <td>Deiondre Hall</td>\n",
       "      <td>Disorderly conduct</td>\n",
       "      <td>Accused of disorderly conduct, public intoxica...</td>\n",
       "    </tr>\n",
       "    <tr>\n",
       "      <th>3/26/2017</th>\n",
       "      <td>Makinton Dorleant</td>\n",
       "      <td>Police interference</td>\n",
       "      <td>Accused of interfence after scuffle outside of...</td>\n",
       "    </tr>\n",
       "    <tr>\n",
       "      <th>3/7/2017</th>\n",
       "      <td>Demetrius Harris</td>\n",
       "      <td>Drugs</td>\n",
       "      <td>Suspected of felony marijuana possession as pa...</td>\n",
       "    </tr>\n",
       "    <tr>\n",
       "      <th>3/5/2017</th>\n",
       "      <td>Ethan Westbrooks</td>\n",
       "      <td>Domestic violence</td>\n",
       "      <td>Suspected of domestic violence in Sacramento a...</td>\n",
       "    </tr>\n",
       "  </tbody>\n",
       "</table>\n",
       "</div>"
      ],
      "text/plain": [
       "                      player_name             category  \\\n",
       "date_of_arrest                                           \n",
       "3/27/2017          Trevone Boykin                Drugs   \n",
       "3/26/2017           Deiondre Hall   Disorderly conduct   \n",
       "3/26/2017       Makinton Dorleant  Police interference   \n",
       "3/7/2017         Demetrius Harris                Drugs   \n",
       "3/5/2017         Ethan Westbrooks    Domestic violence   \n",
       "\n",
       "                                                      description  \n",
       "date_of_arrest                                                     \n",
       "3/27/2017       Accused of marijuana possession, public intoxi...  \n",
       "3/26/2017       Accused of disorderly conduct, public intoxica...  \n",
       "3/26/2017       Accused of interfence after scuffle outside of...  \n",
       "3/7/2017        Suspected of felony marijuana possession as pa...  \n",
       "3/5/2017        Suspected of domestic violence in Sacramento a...  "
      ]
     },
     "execution_count": 38,
     "metadata": {},
     "output_type": "execute_result"
    }
   ],
   "source": [
    "# Create a filtered dataframe from specific columns\n",
    "new_arrest_data_df = arrest_data_df[['NAME', 'DATE', 'CATEGORY', 'DESCRIPTION']].copy()\n",
    "\n",
    "# Rename the column headers\n",
    "new_arrest_data_df = new_arrest_data_df.rename(columns={\"NAME\": \"player_name\",\n",
    "                                                          \"DATE\": \"date_of_arrest\",\n",
    "                                                          \"CATEGORY\": \"category\",\n",
    "                                                          \"DESCRIPTION\": \"description\"})\n",
    "\n",
    "new_arrest_data_df.dropna(inplace=True)\n",
    "\n",
    "# Set index\n",
    "new_arrest_data_df.set_index(\"date_of_arrest\", inplace=True)\n",
    "\n",
    "new_arrest_data_df.head()"
   ]
  },
  {
   "cell_type": "markdown",
   "metadata": {},
   "source": [
    "<h3>Store JSON data into a DataFrame</h3>"
   ]
  },
  {
   "cell_type": "code",
   "execution_count": 39,
   "metadata": {},
   "outputs": [
    {
     "data": {
      "text/html": [
       "<div>\n",
       "<style scoped>\n",
       "    .dataframe tbody tr th:only-of-type {\n",
       "        vertical-align: middle;\n",
       "    }\n",
       "\n",
       "    .dataframe tbody tr th {\n",
       "        vertical-align: top;\n",
       "    }\n",
       "\n",
       "    .dataframe thead th {\n",
       "        text-align: right;\n",
       "    }\n",
       "</style>\n",
       "<table border=\"1\" class=\"dataframe\">\n",
       "  <thead>\n",
       "    <tr style=\"text-align: right;\">\n",
       "      <th></th>\n",
       "      <th>birth_date</th>\n",
       "      <th>birth_place</th>\n",
       "      <th>college</th>\n",
       "      <th>current_salary</th>\n",
       "      <th>current_team</th>\n",
       "      <th>death_date</th>\n",
       "      <th>draft_position</th>\n",
       "      <th>draft_round</th>\n",
       "      <th>draft_team</th>\n",
       "      <th>draft_year</th>\n",
       "      <th>height</th>\n",
       "      <th>high_school</th>\n",
       "      <th>hof_induction_year</th>\n",
       "      <th>name</th>\n",
       "      <th>player_id</th>\n",
       "      <th>position</th>\n",
       "      <th>weight</th>\n",
       "    </tr>\n",
       "  </thead>\n",
       "  <tbody>\n",
       "    <tr>\n",
       "      <th>0</th>\n",
       "      <td>1967-05-12</td>\n",
       "      <td>Bay City, TX</td>\n",
       "      <td>Baylor</td>\n",
       "      <td>None</td>\n",
       "      <td>None</td>\n",
       "      <td>None</td>\n",
       "      <td>34.0</td>\n",
       "      <td>2.0</td>\n",
       "      <td>Seattle Seahawks</td>\n",
       "      <td>1990.0</td>\n",
       "      <td>6-0</td>\n",
       "      <td>Van Vleck, TX</td>\n",
       "      <td>NaN</td>\n",
       "      <td>Robert Blackmon</td>\n",
       "      <td>1809</td>\n",
       "      <td>DB</td>\n",
       "      <td>208.0</td>\n",
       "    </tr>\n",
       "    <tr>\n",
       "      <th>1</th>\n",
       "      <td>1970-07-20</td>\n",
       "      <td>Louisville, KY</td>\n",
       "      <td>Kentucky</td>\n",
       "      <td>None</td>\n",
       "      <td>None</td>\n",
       "      <td>None</td>\n",
       "      <td>85.0</td>\n",
       "      <td>4.0</td>\n",
       "      <td>Seattle Seahawks</td>\n",
       "      <td>1993.0</td>\n",
       "      <td>6-3</td>\n",
       "      <td>Holy Cross, KY</td>\n",
       "      <td>NaN</td>\n",
       "      <td>Dean Wells</td>\n",
       "      <td>23586</td>\n",
       "      <td>LB</td>\n",
       "      <td>248.0</td>\n",
       "    </tr>\n",
       "    <tr>\n",
       "      <th>2</th>\n",
       "      <td>1990-08-14</td>\n",
       "      <td>Newton, MA</td>\n",
       "      <td>Oregon</td>\n",
       "      <td>1,075,000</td>\n",
       "      <td>Miami Dolphins</td>\n",
       "      <td>None</td>\n",
       "      <td>46.0</td>\n",
       "      <td>2.0</td>\n",
       "      <td>Buffalo Bills</td>\n",
       "      <td>2013.0</td>\n",
       "      <td>6-3</td>\n",
       "      <td>Los Gatos, CA</td>\n",
       "      <td>NaN</td>\n",
       "      <td>Kiko Alonso</td>\n",
       "      <td>355</td>\n",
       "      <td>ILB</td>\n",
       "      <td>238.0</td>\n",
       "    </tr>\n",
       "    <tr>\n",
       "      <th>3</th>\n",
       "      <td>1948-04-22</td>\n",
       "      <td>Dallas, TX</td>\n",
       "      <td>North Texas</td>\n",
       "      <td>None</td>\n",
       "      <td>None</td>\n",
       "      <td>1999-10-15</td>\n",
       "      <td>126.0</td>\n",
       "      <td>5.0</td>\n",
       "      <td>New Orleans Saints</td>\n",
       "      <td>1970.0</td>\n",
       "      <td>6-2</td>\n",
       "      <td>W.W. Samuell, TX</td>\n",
       "      <td>NaN</td>\n",
       "      <td>Steve Ramsey</td>\n",
       "      <td>18182</td>\n",
       "      <td>QB</td>\n",
       "      <td>210.0</td>\n",
       "    </tr>\n",
       "    <tr>\n",
       "      <th>4</th>\n",
       "      <td>1988-02-27</td>\n",
       "      <td>Neptune, NJ</td>\n",
       "      <td>Miami (FL)</td>\n",
       "      <td>None</td>\n",
       "      <td>None</td>\n",
       "      <td>None</td>\n",
       "      <td>NaN</td>\n",
       "      <td>NaN</td>\n",
       "      <td>None</td>\n",
       "      <td>NaN</td>\n",
       "      <td>6-0</td>\n",
       "      <td>Neptune, NJ</td>\n",
       "      <td>NaN</td>\n",
       "      <td>Cory Nelms</td>\n",
       "      <td>16250</td>\n",
       "      <td>CB</td>\n",
       "      <td>195.0</td>\n",
       "    </tr>\n",
       "  </tbody>\n",
       "</table>\n",
       "</div>"
      ],
      "text/plain": [
       "   birth_date     birth_place      college current_salary    current_team  \\\n",
       "0  1967-05-12    Bay City, TX       Baylor           None            None   \n",
       "1  1970-07-20  Louisville, KY     Kentucky           None            None   \n",
       "2  1990-08-14      Newton, MA       Oregon      1,075,000  Miami Dolphins   \n",
       "3  1948-04-22      Dallas, TX  North Texas           None            None   \n",
       "4  1988-02-27     Neptune, NJ   Miami (FL)           None            None   \n",
       "\n",
       "   death_date  draft_position  draft_round          draft_team  draft_year  \\\n",
       "0        None            34.0          2.0    Seattle Seahawks      1990.0   \n",
       "1        None            85.0          4.0    Seattle Seahawks      1993.0   \n",
       "2        None            46.0          2.0       Buffalo Bills      2013.0   \n",
       "3  1999-10-15           126.0          5.0  New Orleans Saints      1970.0   \n",
       "4        None             NaN          NaN                None         NaN   \n",
       "\n",
       "  height       high_school  hof_induction_year             name  player_id  \\\n",
       "0    6-0     Van Vleck, TX                 NaN  Robert Blackmon       1809   \n",
       "1    6-3    Holy Cross, KY                 NaN       Dean Wells      23586   \n",
       "2    6-3     Los Gatos, CA                 NaN      Kiko Alonso        355   \n",
       "3    6-2  W.W. Samuell, TX                 NaN     Steve Ramsey      18182   \n",
       "4    6-0       Neptune, NJ                 NaN       Cory Nelms      16250   \n",
       "\n",
       "  position  weight  \n",
       "0       DB   208.0  \n",
       "1       LB   248.0  \n",
       "2      ILB   238.0  \n",
       "3       QB   210.0  \n",
       "4       CB   195.0  "
      ]
     },
     "execution_count": 39,
     "metadata": {},
     "output_type": "execute_result"
    }
   ],
   "source": [
    "json_file = \"profiles.json\"\n",
    "player_profile_df = pd.read_json(json_file)\n",
    "player_profile_df.head()"
   ]
  },
  {
   "cell_type": "markdown",
   "metadata": {},
   "source": [
    "<h3>Clean DataFrame</h3>"
   ]
  },
  {
   "cell_type": "code",
   "execution_count": 40,
   "metadata": {},
   "outputs": [
    {
     "data": {
      "text/html": [
       "<div>\n",
       "<style scoped>\n",
       "    .dataframe tbody tr th:only-of-type {\n",
       "        vertical-align: middle;\n",
       "    }\n",
       "\n",
       "    .dataframe tbody tr th {\n",
       "        vertical-align: top;\n",
       "    }\n",
       "\n",
       "    .dataframe thead th {\n",
       "        text-align: right;\n",
       "    }\n",
       "</style>\n",
       "<table border=\"1\" class=\"dataframe\">\n",
       "  <thead>\n",
       "    <tr style=\"text-align: right;\">\n",
       "      <th></th>\n",
       "      <th>player_name</th>\n",
       "      <th>team</th>\n",
       "      <th>position</th>\n",
       "    </tr>\n",
       "    <tr>\n",
       "      <th>id</th>\n",
       "      <th></th>\n",
       "      <th></th>\n",
       "      <th></th>\n",
       "    </tr>\n",
       "  </thead>\n",
       "  <tbody>\n",
       "    <tr>\n",
       "      <th>355</th>\n",
       "      <td>Kiko Alonso</td>\n",
       "      <td>Miami Dolphins</td>\n",
       "      <td>ILB</td>\n",
       "    </tr>\n",
       "    <tr>\n",
       "      <th>2701</th>\n",
       "      <td>Preston Brown</td>\n",
       "      <td>Buffalo Bills</td>\n",
       "      <td>ILB</td>\n",
       "    </tr>\n",
       "    <tr>\n",
       "      <th>3966</th>\n",
       "      <td>Frank Clark</td>\n",
       "      <td>Seattle Seahawks</td>\n",
       "      <td>DE</td>\n",
       "    </tr>\n",
       "    <tr>\n",
       "      <th>19449</th>\n",
       "      <td>Emmanuel Sanders</td>\n",
       "      <td>Denver Broncos</td>\n",
       "      <td>WR</td>\n",
       "    </tr>\n",
       "    <tr>\n",
       "      <th>17858</th>\n",
       "      <td>Bilal Powell</td>\n",
       "      <td>New York Jets</td>\n",
       "      <td>RB</td>\n",
       "    </tr>\n",
       "  </tbody>\n",
       "</table>\n",
       "</div>"
      ],
      "text/plain": [
       "             player_name              team position\n",
       "id                                                 \n",
       "355          Kiko Alonso    Miami Dolphins      ILB\n",
       "2701       Preston Brown     Buffalo Bills      ILB\n",
       "3966         Frank Clark  Seattle Seahawks       DE\n",
       "19449  Emmanuel Sanders     Denver Broncos       WR\n",
       "17858       Bilal Powell     New York Jets       RB"
      ]
     },
     "execution_count": 40,
     "metadata": {},
     "output_type": "execute_result"
    }
   ],
   "source": [
    "# Create a filtered dataframe from specific columns\n",
    "new_player_profile_df = player_profile_df[[\"player_id\",\"name\", \"current_team\", \"position\"]].copy()\n",
    "\n",
    "# Rename the column headers\n",
    "new_player_profile_df = new_player_profile_df.rename(columns={\"player_id\": \"id\",\n",
    "                                                              \"name\": \"player_name\",\n",
    "                                                              \"current_team\": \"team\"})\n",
    "\n",
    "new_player_profile_df.dropna(inplace=True)\n",
    "\n",
    "# Set index\n",
    "new_player_profile_df.set_index(\"id\", inplace=True)\n",
    "                                                          \n",
    "new_player_profile_df.head()"
   ]
  },
  {
   "cell_type": "markdown",
   "metadata": {},
   "source": [
    "<h3>Connect to local database</h3>"
   ]
  },
  {
   "cell_type": "code",
   "execution_count": 41,
   "metadata": {},
   "outputs": [],
   "source": [
    "rds_connection_string = \"postgres:1234@localhost:5432/nfl_arrest_db\"\n",
    "engine = create_engine(f'postgresql://{rds_connection_string}')"
   ]
  },
  {
   "cell_type": "markdown",
   "metadata": {},
   "source": [
    "<h3>Check for tables</h3>"
   ]
  },
  {
   "cell_type": "code",
   "execution_count": 42,
   "metadata": {
    "scrolled": true
   },
   "outputs": [
    {
     "data": {
      "text/plain": [
       "['arrest_table', 'player_profile', 'combine_table']"
      ]
     },
     "execution_count": 42,
     "metadata": {},
     "output_type": "execute_result"
    }
   ],
   "source": [
    "engine.table_names()"
   ]
  },
  {
   "cell_type": "markdown",
   "metadata": {},
   "source": [
    "<h3>Use pandas to load csv converted DataFrame into database</h3>"
   ]
  },
  {
   "cell_type": "code",
   "execution_count": 43,
   "metadata": {},
   "outputs": [],
   "source": [
    "new_arrest_data_df.to_sql(name='arrest_table', con=engine, if_exists='append', index=False)"
   ]
  },
  {
   "cell_type": "markdown",
   "metadata": {},
   "source": [
    "<h3>Use pandas to load json converted DataFrame into database</h3>"
   ]
  },
  {
   "cell_type": "code",
   "execution_count": 44,
   "metadata": {},
   "outputs": [],
   "source": [
    "new_player_profile_df.to_sql(name='player_profile', con=engine, if_exists='append', index=False)"
   ]
  },
  {
   "cell_type": "markdown",
   "metadata": {},
   "source": [
    "<h3>Confirm data has been added by querying the arrest_table</h3>"
   ]
  },
  {
   "cell_type": "code",
   "execution_count": 45,
   "metadata": {},
   "outputs": [
    {
     "data": {
      "text/html": [
       "<div>\n",
       "<style scoped>\n",
       "    .dataframe tbody tr th:only-of-type {\n",
       "        vertical-align: middle;\n",
       "    }\n",
       "\n",
       "    .dataframe tbody tr th {\n",
       "        vertical-align: top;\n",
       "    }\n",
       "\n",
       "    .dataframe thead th {\n",
       "        text-align: right;\n",
       "    }\n",
       "</style>\n",
       "<table border=\"1\" class=\"dataframe\">\n",
       "  <thead>\n",
       "    <tr style=\"text-align: right;\">\n",
       "      <th></th>\n",
       "      <th>player_name</th>\n",
       "      <th>category</th>\n",
       "      <th>description</th>\n",
       "    </tr>\n",
       "  </thead>\n",
       "  <tbody>\n",
       "    <tr>\n",
       "      <th>0</th>\n",
       "      <td>Trevone Boykin</td>\n",
       "      <td>Drugs</td>\n",
       "      <td>Accused of marijuana possession, public intoxi...</td>\n",
       "    </tr>\n",
       "    <tr>\n",
       "      <th>1</th>\n",
       "      <td>Deiondre Hall</td>\n",
       "      <td>Disorderly conduct</td>\n",
       "      <td>Accused of disorderly conduct, public intoxica...</td>\n",
       "    </tr>\n",
       "    <tr>\n",
       "      <th>2</th>\n",
       "      <td>Makinton Dorleant</td>\n",
       "      <td>Police interference</td>\n",
       "      <td>Accused of interfence after scuffle outside of...</td>\n",
       "    </tr>\n",
       "    <tr>\n",
       "      <th>3</th>\n",
       "      <td>Demetrius Harris</td>\n",
       "      <td>Drugs</td>\n",
       "      <td>Suspected of felony marijuana possession as pa...</td>\n",
       "    </tr>\n",
       "    <tr>\n",
       "      <th>4</th>\n",
       "      <td>Ethan Westbrooks</td>\n",
       "      <td>Domestic violence</td>\n",
       "      <td>Suspected of domestic violence in Sacramento a...</td>\n",
       "    </tr>\n",
       "  </tbody>\n",
       "</table>\n",
       "</div>"
      ],
      "text/plain": [
       "         player_name             category  \\\n",
       "0     Trevone Boykin                Drugs   \n",
       "1      Deiondre Hall   Disorderly conduct   \n",
       "2  Makinton Dorleant  Police interference   \n",
       "3   Demetrius Harris                Drugs   \n",
       "4   Ethan Westbrooks    Domestic violence   \n",
       "\n",
       "                                         description  \n",
       "0  Accused of marijuana possession, public intoxi...  \n",
       "1  Accused of disorderly conduct, public intoxica...  \n",
       "2  Accused of interfence after scuffle outside of...  \n",
       "3  Suspected of felony marijuana possession as pa...  \n",
       "4  Suspected of domestic violence in Sacramento a...  "
      ]
     },
     "execution_count": 45,
     "metadata": {},
     "output_type": "execute_result"
    }
   ],
   "source": [
    "pd.read_sql_query('select * from arrest_table', con=engine).head()"
   ]
  },
  {
   "cell_type": "markdown",
   "metadata": {},
   "source": [
    "<h3>Confirm data has been added by querying the player_profile</h3>"
   ]
  },
  {
   "cell_type": "code",
   "execution_count": 46,
   "metadata": {
    "scrolled": true
   },
   "outputs": [
    {
     "data": {
      "text/html": [
       "<div>\n",
       "<style scoped>\n",
       "    .dataframe tbody tr th:only-of-type {\n",
       "        vertical-align: middle;\n",
       "    }\n",
       "\n",
       "    .dataframe tbody tr th {\n",
       "        vertical-align: top;\n",
       "    }\n",
       "\n",
       "    .dataframe thead th {\n",
       "        text-align: right;\n",
       "    }\n",
       "</style>\n",
       "<table border=\"1\" class=\"dataframe\">\n",
       "  <thead>\n",
       "    <tr style=\"text-align: right;\">\n",
       "      <th></th>\n",
       "      <th>player_name</th>\n",
       "      <th>team</th>\n",
       "      <th>position</th>\n",
       "    </tr>\n",
       "  </thead>\n",
       "  <tbody>\n",
       "    <tr>\n",
       "      <th>0</th>\n",
       "      <td>Robert Blackmon</td>\n",
       "      <td>Seattle Seahawks</td>\n",
       "      <td>DB</td>\n",
       "    </tr>\n",
       "    <tr>\n",
       "      <th>1</th>\n",
       "      <td>Dean Wells</td>\n",
       "      <td>Seattle Seahawks</td>\n",
       "      <td>LB</td>\n",
       "    </tr>\n",
       "    <tr>\n",
       "      <th>2</th>\n",
       "      <td>Kiko Alonso</td>\n",
       "      <td>Buffalo Bills</td>\n",
       "      <td>ILB</td>\n",
       "    </tr>\n",
       "    <tr>\n",
       "      <th>3</th>\n",
       "      <td>Steve Ramsey</td>\n",
       "      <td>New Orleans Saints</td>\n",
       "      <td>QB</td>\n",
       "    </tr>\n",
       "    <tr>\n",
       "      <th>4</th>\n",
       "      <td>Cory Nelms</td>\n",
       "      <td>None</td>\n",
       "      <td>CB</td>\n",
       "    </tr>\n",
       "  </tbody>\n",
       "</table>\n",
       "</div>"
      ],
      "text/plain": [
       "       player_name                team position\n",
       "0  Robert Blackmon    Seattle Seahawks       DB\n",
       "1       Dean Wells    Seattle Seahawks       LB\n",
       "2      Kiko Alonso       Buffalo Bills      ILB\n",
       "3     Steve Ramsey  New Orleans Saints       QB\n",
       "4       Cory Nelms                None       CB"
      ]
     },
     "execution_count": 46,
     "metadata": {},
     "output_type": "execute_result"
    }
   ],
   "source": [
    "pd.read_sql_query('select * from player_profile', con=engine).head()"
   ]
  },
  {
   "cell_type": "markdown",
   "metadata": {},
   "source": [
    "<h3>Joining both datasets into 1 dataset</h3>"
   ]
  },
  {
   "cell_type": "code",
   "execution_count": 47,
   "metadata": {},
   "outputs": [],
   "source": [
    "combined_ds = new_arrest_data_df.merge(new_player_profile_df,left_on='player_name', right_on='player_name')"
   ]
  },
  {
   "cell_type": "code",
   "execution_count": 58,
   "metadata": {
    "scrolled": true
   },
   "outputs": [
    {
     "data": {
      "text/html": [
       "<div>\n",
       "<style scoped>\n",
       "    .dataframe tbody tr th:only-of-type {\n",
       "        vertical-align: middle;\n",
       "    }\n",
       "\n",
       "    .dataframe tbody tr th {\n",
       "        vertical-align: top;\n",
       "    }\n",
       "\n",
       "    .dataframe thead th {\n",
       "        text-align: right;\n",
       "    }\n",
       "</style>\n",
       "<table border=\"1\" class=\"dataframe\">\n",
       "  <thead>\n",
       "    <tr style=\"text-align: right;\">\n",
       "      <th></th>\n",
       "      <th>player_name</th>\n",
       "      <th>category</th>\n",
       "      <th>description</th>\n",
       "      <th>team</th>\n",
       "      <th>position</th>\n",
       "    </tr>\n",
       "  </thead>\n",
       "  <tbody>\n",
       "    <tr>\n",
       "      <th>0</th>\n",
       "      <td>Demetrius Harris</td>\n",
       "      <td>Drugs</td>\n",
       "      <td>Suspected of felony marijuana possession as pa...</td>\n",
       "      <td>Kansas City Chiefs</td>\n",
       "      <td>TE</td>\n",
       "    </tr>\n",
       "    <tr>\n",
       "      <th>1</th>\n",
       "      <td>David Parry</td>\n",
       "      <td>DUI, resisting arrest</td>\n",
       "      <td>Suspected of stealing golf cart, driving drunk...</td>\n",
       "      <td>New Orleans Saints</td>\n",
       "      <td>NT</td>\n",
       "    </tr>\n",
       "    <tr>\n",
       "      <th>2</th>\n",
       "      <td>Darrelle Revis</td>\n",
       "      <td>Assault</td>\n",
       "      <td>Accused of aggravated assault after altercatio...</td>\n",
       "      <td>Kansas City Chiefs</td>\n",
       "      <td>DB</td>\n",
       "    </tr>\n",
       "    <tr>\n",
       "      <th>3</th>\n",
       "      <td>Adam Jones</td>\n",
       "      <td>Assault</td>\n",
       "      <td>Accused of poking hotel security employee in t...</td>\n",
       "      <td>Cincinnati Bengals</td>\n",
       "      <td>DB</td>\n",
       "    </tr>\n",
       "    <tr>\n",
       "      <th>4</th>\n",
       "      <td>Adam Jones</td>\n",
       "      <td>Disorderly conduct</td>\n",
       "      <td>He was the passenger in a car pulled over for ...</td>\n",
       "      <td>Cincinnati Bengals</td>\n",
       "      <td>DB</td>\n",
       "    </tr>\n",
       "  </tbody>\n",
       "</table>\n",
       "</div>"
      ],
      "text/plain": [
       "        player_name               category  \\\n",
       "0  Demetrius Harris                  Drugs   \n",
       "1       David Parry  DUI, resisting arrest   \n",
       "2    Darrelle Revis                Assault   \n",
       "3        Adam Jones                Assault   \n",
       "4        Adam Jones     Disorderly conduct   \n",
       "\n",
       "                                         description                team  \\\n",
       "0  Suspected of felony marijuana possession as pa...  Kansas City Chiefs   \n",
       "1  Suspected of stealing golf cart, driving drunk...  New Orleans Saints   \n",
       "2  Accused of aggravated assault after altercatio...  Kansas City Chiefs   \n",
       "3  Accused of poking hotel security employee in t...  Cincinnati Bengals   \n",
       "4  He was the passenger in a car pulled over for ...  Cincinnati Bengals   \n",
       "\n",
       "  position  \n",
       "0       TE  \n",
       "1       NT  \n",
       "2       DB  \n",
       "3       DB  \n",
       "4       DB  "
      ]
     },
     "execution_count": 58,
     "metadata": {},
     "output_type": "execute_result"
    }
   ],
   "source": [
    "combined_ds.head()"
   ]
  },
  {
   "cell_type": "markdown",
   "metadata": {},
   "source": [
    "<h3>Use pandas to load csv converted DataFrame into database</h3>"
   ]
  },
  {
   "cell_type": "code",
   "execution_count": 49,
   "metadata": {},
   "outputs": [],
   "source": [
    "combined_ds.to_sql(name='combine_table', con=engine, if_exists='append', index=False)"
   ]
  },
  {
   "cell_type": "markdown",
   "metadata": {},
   "source": [
    "<h3>Confirm data has been added by querying the player_profile</h3>"
   ]
  },
  {
   "cell_type": "code",
   "execution_count": 50,
   "metadata": {},
   "outputs": [
    {
     "data": {
      "text/html": [
       "<div>\n",
       "<style scoped>\n",
       "    .dataframe tbody tr th:only-of-type {\n",
       "        vertical-align: middle;\n",
       "    }\n",
       "\n",
       "    .dataframe tbody tr th {\n",
       "        vertical-align: top;\n",
       "    }\n",
       "\n",
       "    .dataframe thead th {\n",
       "        text-align: right;\n",
       "    }\n",
       "</style>\n",
       "<table border=\"1\" class=\"dataframe\">\n",
       "  <thead>\n",
       "    <tr style=\"text-align: right;\">\n",
       "      <th></th>\n",
       "      <th>player_name</th>\n",
       "      <th>category</th>\n",
       "      <th>description</th>\n",
       "      <th>team</th>\n",
       "      <th>position</th>\n",
       "    </tr>\n",
       "  </thead>\n",
       "  <tbody>\n",
       "    <tr>\n",
       "      <th>0</th>\n",
       "      <td>Trevone Boykin</td>\n",
       "      <td>Drugs</td>\n",
       "      <td>Accused of marijuana possession, public intoxi...</td>\n",
       "      <td>None</td>\n",
       "      <td>QB</td>\n",
       "    </tr>\n",
       "    <tr>\n",
       "      <th>1</th>\n",
       "      <td>Makinton Dorleant</td>\n",
       "      <td>Police interference</td>\n",
       "      <td>Accused of interfence after scuffle outside of...</td>\n",
       "      <td>None</td>\n",
       "      <td>CB</td>\n",
       "    </tr>\n",
       "    <tr>\n",
       "      <th>2</th>\n",
       "      <td>Demetrius Harris</td>\n",
       "      <td>Drugs</td>\n",
       "      <td>Suspected of felony marijuana possession as pa...</td>\n",
       "      <td>None</td>\n",
       "      <td>TE</td>\n",
       "    </tr>\n",
       "    <tr>\n",
       "      <th>3</th>\n",
       "      <td>David Parry</td>\n",
       "      <td>DUI, resisting arrest</td>\n",
       "      <td>Suspected of stealing golf cart, driving drunk...</td>\n",
       "      <td>Indianapolis Colts</td>\n",
       "      <td>NT</td>\n",
       "    </tr>\n",
       "    <tr>\n",
       "      <th>4</th>\n",
       "      <td>Matt Elam</td>\n",
       "      <td>Drugs</td>\n",
       "      <td>Pulled over in Miami Beach, accused of possess...</td>\n",
       "      <td>Baltimore Ravens</td>\n",
       "      <td>SS</td>\n",
       "    </tr>\n",
       "  </tbody>\n",
       "</table>\n",
       "</div>"
      ],
      "text/plain": [
       "         player_name               category  \\\n",
       "0     Trevone Boykin                  Drugs   \n",
       "1  Makinton Dorleant    Police interference   \n",
       "2   Demetrius Harris                  Drugs   \n",
       "3        David Parry  DUI, resisting arrest   \n",
       "4          Matt Elam                  Drugs   \n",
       "\n",
       "                                         description                team  \\\n",
       "0  Accused of marijuana possession, public intoxi...                None   \n",
       "1  Accused of interfence after scuffle outside of...                None   \n",
       "2  Suspected of felony marijuana possession as pa...                None   \n",
       "3  Suspected of stealing golf cart, driving drunk...  Indianapolis Colts   \n",
       "4  Pulled over in Miami Beach, accused of possess...    Baltimore Ravens   \n",
       "\n",
       "  position  \n",
       "0       QB  \n",
       "1       CB  \n",
       "2       TE  \n",
       "3       NT  \n",
       "4       SS  "
      ]
     },
     "execution_count": 50,
     "metadata": {},
     "output_type": "execute_result"
    }
   ],
   "source": [
    "pd.read_sql_query('select * from combine_table', con=engine).head()"
   ]
  },
  {
   "cell_type": "code",
   "execution_count": 92,
   "metadata": {},
   "outputs": [],
   "source": [
    "# Team with most arrest\n",
    "team_arrests = combined_ds[\"team\"].value_counts()\n",
    "\n",
    "#team_arrests"
   ]
  },
  {
   "cell_type": "code",
   "execution_count": 88,
   "metadata": {},
   "outputs": [
    {
     "data": {
      "image/png": "[encoded data removed]",
      "text/plain": [
       "<Figure size 576x396 with 1 Axes>"
      ]
     },
     "metadata": {},
     "output_type": "display_data"
    }
   ],
   "source": [
    "# Plotting graph showing which team has the most arrest\n",
    "team_arrests.head(10).plot.bar()\n",
    "plt.title('Most Arrest per Team in NFL from 2000 to 2017')\n",
    "plt.ylabel('Number of Arrest')\n",
    "plt.xlabel('Teams')\n",
    "plt.savefig('Images/team_most_arrest.PNG', bbox_inches = 'tight')"
   ]
  },
  {
   "cell_type": "code",
   "execution_count": 89,
   "metadata": {},
   "outputs": [
    {
     "data": {
      "image/png": "[encoded data removed]",
      "text/plain": [
       "<Figure size 576x396 with 1 Axes>"
      ]
     },
     "metadata": {},
     "output_type": "display_data"
    }
   ],
   "source": [
    "# Plotting graph showing which team has the least arrest\n",
    "team_arrests.tail(10).plot.bar()\n",
    "plt.title('Least Arrest per Team in NFL from 2000 to 2017')\n",
    "plt.ylabel('Number of Arrest')\n",
    "plt.xlabel('Teams')\n",
    "plt.savefig('Images/team_least_arrest.PNG', bbox_inches = 'tight')"
   ]
  },
  {
   "cell_type": "code",
   "execution_count": 93,
   "metadata": {},
   "outputs": [],
   "source": [
    "# Plotting graph showing which player has the most arrest\n",
    "player_arrests = combined_ds[\"player_name\"].value_counts()\n",
    "\n",
    "#player_arrests"
   ]
  },
  {
   "cell_type": "code",
   "execution_count": 90,
   "metadata": {},
   "outputs": [
    {
     "data": {
      "image/png": "[encoded data removed]",
      "text/plain": [
       "<Figure size 576x396 with 1 Axes>"
      ]
     },
     "metadata": {},
     "output_type": "display_data"
    }
   ],
   "source": [
    "player_arrests.head(10).plot.bar()\n",
    "plt.title('Player With Most Arrest in NFL from 2000 to 2017')\n",
    "plt.ylabel('Number of Arrest')\n",
    "plt.xlabel('Player')\n",
    "plt.savefig('Images/player_with_most_arrest.PNG', bbox_inches = 'tight')"
   ]
  },
  {
   "cell_type": "code",
   "execution_count": 94,
   "metadata": {},
   "outputs": [],
   "source": [
    "# Plotting graph showing which are the top arrest category\n",
    "category_arrests = combined_ds[\"category\"].value_counts()\n",
    "\n",
    "#category_arrests"
   ]
  },
  {
   "cell_type": "code",
   "execution_count": 91,
   "metadata": {},
   "outputs": [
    {
     "data": {
      "image/png": "[encoded data removed]",
      "text/plain": [
       "<Figure size 576x396 with 1 Axes>"
      ]
     },
     "metadata": {},
     "output_type": "display_data"
    }
   ],
   "source": [
    "category_arrests.head(10).plot.bar()\n",
    "plt.title('Top Category For Arrest in NFL from 2000 to 2017')\n",
    "plt.ylabel('Number of Charges')\n",
    "plt.xlabel('Type of Charges')\n",
    "plt.savefig('Images/top_10_charges.PNG', bbox_inches = 'tight')"
   ]
  },
  {
   "cell_type": "code",
   "execution_count": null,
   "metadata": {},
   "outputs": [],
   "source": []
  }
 ],
 "metadata": {
  "kernelspec": {
   "display_name": "Python 3",
   "language": "python",
   "name": "python3"
  },
  "language_info": {
   "codemirror_mode": {
    "name": "ipython",
    "version": 3
   },
   "file_extension": ".py",
   "mimetype": "text/x-python",
   "name": "python",
   "nbconvert_exporter": "python",
   "pygments_lexer": "ipython3",
   "version": "3.7.3"
  }
 },
 "nbformat": 4,
 "nbformat_minor": 2
}
